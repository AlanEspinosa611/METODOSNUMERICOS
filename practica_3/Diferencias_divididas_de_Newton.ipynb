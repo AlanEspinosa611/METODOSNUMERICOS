{
  "nbformat": 4,
  "nbformat_minor": 0,
  "metadata": {
    "colab": {
      "provenance": []
    },
    "kernelspec": {
      "name": "python3",
      "display_name": "Python 3"
    },
    "language_info": {
      "name": "python"
    }
  },
  "cells": [
    {
      "cell_type": "code",
      "execution_count": null,
      "metadata": {
        "id": "zkKAGtI5xO4M"
      },
      "outputs": [],
      "source": [
        "import numpy as np\n",
        "import sympy as sym"
      ]
    },
    {
      "cell_type": "code",
      "source": [
        "#Datos de entrada\n",
        "x=[1.0,1.3,1.6,1.9,2.2]\n",
        "y=[0.7651977,0.6200860,0.4554022,0.2818186, 0.1103623]\n",
        "b=1.5"
      ],
      "metadata": {
        "id": "StzjYPEmxXuK"
      },
      "execution_count": 9,
      "outputs": []
    },
    {
      "cell_type": "code",
      "source": [
        "#Matriz F\n",
        "F=np.zeros((len(x),len(y)))\n",
        "\n",
        "#Valores a F_j,0\n",
        "\n",
        "for r in range(0,len(y)):\n",
        "  F[r][0]=y[r]\n",
        "\n",
        "\n",
        "for i in range(1,len(y)):\n",
        "  for j in range(1,i+1):\n",
        "    F[i][j] = (F[i][j-1] - F[i-1][j-1])/(x[i]- x[i-j])"
      ],
      "metadata": {
        "id": "xSGc7vNvxjzR"
      },
      "execution_count": 10,
      "outputs": []
    },
    {
      "cell_type": "code",
      "source": [
        "print(\"Tabla de valores para interpolar b\", b)\n",
        "print()\n",
        "print(F)"
      ],
      "metadata": {
        "colab": {
          "base_uri": "https://localhost:8080/"
        },
        "id": "ievNxPBNy9WC",
        "outputId": "52fb19bf-0503-4bea-b7ee-e777c8063a26"
      },
      "execution_count": 11,
      "outputs": [
        {
          "output_type": "stream",
          "name": "stdout",
          "text": [
            "Tabla de valores para interpolar b 1.5\n",
            "\n",
            "[[ 0.7651977   0.          0.          0.          0.        ]\n",
            " [ 0.620086   -0.48370567  0.          0.          0.        ]\n",
            " [ 0.4554022  -0.548946   -0.10873389  0.          0.        ]\n",
            " [ 0.2818186  -0.578612   -0.04944333  0.0658784   0.        ]\n",
            " [ 0.1103623  -0.571521    0.01181833  0.06806852  0.0018251 ]]\n"
          ]
        }
      ]
    },
    {
      "cell_type": "code",
      "source": [
        "#Polinomio P(x)_n\n",
        "\n",
        "p = F[0][0]\n",
        "a=p\n",
        "s = sym.Symbol('x')\n",
        "\n",
        "for j in range(1,len(y)):\n",
        "    m = F[j][j]\n",
        "    t = 1\n",
        "    for k in range(0,j,1):\n",
        "        t= t*(s - x[k])\n",
        "    p = t*m + p\n",
        "\n",
        "print('P(x) = ',a,'+',p)"
      ],
      "metadata": {
        "colab": {
          "base_uri": "https://localhost:8080/"
        },
        "id": "pAm6Zoy1zsqu",
        "outputId": "c13173d0-69a4-4437-b589-c109f78981aa"
      },
      "execution_count": 12,
      "outputs": [
        {
          "output_type": "stream",
          "name": "stdout",
          "text": [
            "P(x) =  0.7651977 + -0.483705666666666*x + 0.00182510288066044*(x - 1.9)*(x - 1.6)*(x - 1.3)*(x - 1.0) + 0.0658783950617283*(x - 1.6)*(x - 1.3)*(x - 1.0) - 0.108733888888889*(x - 1.3)*(x - 1.0) + 1.24890336666667\n"
          ]
        }
      ]
    },
    {
      "cell_type": "code",
      "source": [
        "# simplifica multiplicando entre (x-xi)\n",
        "ps = p.expand()\n",
        "\n",
        "# polinomio para evaluacion numérica\n",
        "px = sym.lambdify(s,ps)\n",
        "\n",
        "print('polinomio evaluado en',b)\n",
        "print(ps.subs(s,1.5))\n"
      ],
      "metadata": {
        "colab": {
          "base_uri": "https://localhost:8080/"
        },
        "id": "KKo6g09e5Bik",
        "outputId": "b08e58b6-3742-4e06-99d9-b19f5022289f"
      },
      "execution_count": 14,
      "outputs": [
        {
          "output_type": "stream",
          "name": "stdout",
          "text": [
            "polinomio evaluado en 1.5\n",
            "0.511819994238683\n"
          ]
        }
      ]
    }
  ]
}