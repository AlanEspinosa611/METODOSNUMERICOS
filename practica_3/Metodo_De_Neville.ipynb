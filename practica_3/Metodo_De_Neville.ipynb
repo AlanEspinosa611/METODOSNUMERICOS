{
  "nbformat": 4,
  "nbformat_minor": 0,
  "metadata": {
    "colab": {
      "provenance": []
    },
    "kernelspec": {
      "name": "python3",
      "display_name": "Python 3"
    },
    "language_info": {
      "name": "python"
    }
  },
  "cells": [
    {
      "cell_type": "code",
      "execution_count": null,
      "metadata": {
        "colab": {
          "base_uri": "https://localhost:8080/"
        },
        "id": "3nfDWlTod1u3",
        "outputId": "ea8e4868-1117-4737-ad90-6882f23c05f4"
      },
      "outputs": [
        {
          "output_type": "stream",
          "name": "stdout",
          "text": [
            "Valores interpolados para 1.5\n",
            "[[0.7651977  0.         0.         0.         0.        ]\n",
            " [0.620086   0.52334487 0.         0.         0.        ]\n",
            " [0.4554022  0.5102968  0.51247148 0.         0.        ]\n",
            " [0.2818186  0.5132634  0.51128567 0.51181269 0.        ]\n",
            " [0.1103623  0.510427   0.51373613 0.51183021 0.51181999]]\n"
          ]
        }
      ],
      "source": [
        "#Interpolación por el método de Neville\n",
        "import numpy as np\n",
        "#Se pidn  los datos de  entrada\n",
        "x=[1.0,1.3,1.6,1.9,2.2]\n",
        "y=[0.7651977,0.6200860,0.4554022,0.2818186, 0.1103623]\n",
        "#Se crea la matriz Q a llenar\n",
        "Q=np.zeros((len(x),len(y)))\n",
        "#valor al que se quiere interpolar\n",
        "a=1.5\n",
        "#Se llenan los Q_j,0\n",
        "for r in range(0,len(y)):\n",
        "  Q[r][0]=y[r]\n",
        "#Se aplica el agoritmo\n",
        "for i in range(1,len(y)):\n",
        "  for j in range(1,i+1):\n",
        "    Q[i][j]=((a- x[i-j])*(Q[i][j-1])-(a-x[i])*(Q[i-1][j-1]))/(x[i]-x[i-j])\n",
        "\n",
        "print(\"Valores interpolados para 1.5\")\n",
        "print(Q)"
      ]
    }
  ]
}