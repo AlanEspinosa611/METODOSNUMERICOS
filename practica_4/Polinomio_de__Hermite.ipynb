{
  "nbformat": 4,
  "nbformat_minor": 0,
  "metadata": {
    "colab": {
      "provenance": []
    },
    "kernelspec": {
      "name": "python3",
      "display_name": "Python 3"
    },
    "language_info": {
      "name": "python"
    }
  },
  "cells": [
    {
      "cell_type": "code",
      "execution_count": 2,
      "metadata": {
        "id": "QBk96tH5S2bc"
      },
      "outputs": [],
      "source": [
        "#Código para interpolar por medio de la Interpolación de Hermite \\\\Jesús Alan Espinosa García\n",
        "\n",
        "import numpy as np\n",
        "import sympy as sym"
      ]
    },
    {
      "cell_type": "code",
      "source": [
        "#Datos inciales de entrada\n",
        "x=[1.3,1.6,1.9] #x\n",
        "y=[0.6200860,0.4554022,0.2818186] #f(x)\n",
        "z=[-0.5220232,-0.5698959,-0.5811571] #f'(x)"
      ],
      "metadata": {
        "id": "PPWiAWTCUfCa"
      },
      "execution_count": 3,
      "outputs": []
    },
    {
      "cell_type": "code",
      "source": [
        "#Matrices Q y Z\n",
        "Q=np.zeros((len(x)+3,len(y)+3))\n",
        "Z=np.zeros((len(x)*2,1))\n",
        "\n",
        "\n",
        "#Valores a Qj,0\n",
        "\n",
        "for r in range(0,len(y)):\n",
        "  Q[r][0]=y[r]"
      ],
      "metadata": {
        "id": "z25fUlD4qQes"
      },
      "execution_count": 4,
      "outputs": []
    },
    {
      "cell_type": "code",
      "source": [
        "\n",
        "#Aplicamos el algoritmo de Hermite\n",
        "for i in range(0,len(x)):\n",
        "  Z[2*i] = x[i]\n",
        "  Z[2*i+1]= x[i]\n",
        "  Q[2*i][0] = y[i]\n",
        "  Q[2*i+1][0] = y[i]\n",
        "  Q[2*i+1][1] = z[i]\n",
        "  if i != 0:\n",
        "    Q[2*i][1] = (Q[2*i][0]-Q[2*i-1][0])/(Z[2*i]- Z[2*i-1])\n",
        "\n",
        "for i in range(2,len(x)+3):\n",
        "    for j in range(2,i+1):\n",
        "        Q[i][j]=(Q[i][j-1]-Q[i-1][j-1])/(Z[i]-Z[i-j])\n",
        "\n",
        "\n",
        "print(\"Coeficientes Qj,j del polinomio de Hermite \")\n",
        "print(Q)"
      ],
      "metadata": {
        "colab": {
          "base_uri": "https://localhost:8080/"
        },
        "id": "PzRuhbvYp6al",
        "outputId": "5625f902-cfa6-4052-9f4e-2243f75728ef"
      },
      "execution_count": 5,
      "outputs": [
        {
          "output_type": "stream",
          "name": "stdout",
          "text": [
            "Coeficientes Qj,j del polinomio de Hermite \n",
            "[[ 0.620086    0.          0.          0.          0.          0.        ]\n",
            " [ 0.620086   -0.5220232   0.          0.          0.          0.        ]\n",
            " [ 0.4554022  -0.548946   -0.08974267  0.          0.          0.        ]\n",
            " [ 0.4554022  -0.5698959  -0.069833    0.06636556  0.          0.        ]\n",
            " [ 0.2818186  -0.578612   -0.02905367  0.06796556  0.00266667  0.        ]\n",
            " [ 0.2818186  -0.5811571  -0.00848367  0.06856667  0.00100185 -0.00277469]]\n"
          ]
        }
      ]
    }
  ]
}